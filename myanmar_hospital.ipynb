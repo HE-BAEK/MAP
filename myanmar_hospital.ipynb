{
 "cells": [
  {
   "cell_type": "code",
   "execution_count": null,
   "metadata": {},
   "outputs": [],
   "source": [
    "import geopandas as gpd\n",
    "import folium\n",
    "import requests\n",
    "from io import BytesIO\n",
    "\n",
    "# 1. 병원 데이터 (WFS GeoJSON)\n",
    "hospital_url = \"https://geonode.themimu.info/geoserver/geonode/ows?service=WFS&version=1.0.0&request=GetFeature&outputFormat=application%2Fjson&typeName=geonode:health_facilities_myanmar2020_v20241016\"\n",
    "hospital_response = requests.get(hospital_url)\n",
    "hospital_gdf = gpd.read_file(BytesIO(hospital_response.content))\n",
    "\n",
    "# 2. 학교 데이터\n",
    "school_gdf = gpd.read_file(\"./data/hotosm_mmr_education_facilities_points_geojson/hotosm_mmr_education_facilities_points_geojson.geojson\")\n",
    "\n",
    "# 3. 지도 초기화 (미얀마 중심)\n",
    "m = folium.Map(location=[21.0, 96.0], zoom_start=6)\n",
    "\n",
    "# 4. 병원 레이어\n",
    "hospital_layer = folium.FeatureGroup(name=\"병원 (Hospitals)\", show=True)\n",
    "\n",
    "for _, row in hospital_gdf.iterrows():\n",
    "    geom = row.geometry\n",
    "    name = row.get(\"name\", \"Unknown\")\n",
    "    if geom and geom.geom_type == \"Point\":\n",
    "        folium.CircleMarker(\n",
    "            location=[geom.y, geom.x],\n",
    "            radius=3,\n",
    "            color='red',\n",
    "            fill=True,\n",
    "            fill_opacity=0.7,\n",
    "            popup=name\n",
    "        ).add_to(hospital_layer)\n",
    "\n",
    "hospital_layer.add_to(m)\n",
    "\n",
    "# 5. 학교 레이어\n",
    "school_layer = folium.FeatureGroup(name=\"학교 (Schools)\", show=True)\n",
    "\n",
    "for _, row in school_gdf.iterrows():\n",
    "    geom = row.geometry\n",
    "    name = row.get(\"name\", \"Unknown\")\n",
    "    if geom and geom.geom_type == \"Point\":\n",
    "        folium.CircleMarker(\n",
    "            location=[geom.y, geom.x],\n",
    "            radius=3,\n",
    "            color='blue',\n",
    "            fill=True,\n",
    "            fill_opacity=0.7,\n",
    "            popup=name\n",
    "        ).add_to(school_layer)\n",
    "\n",
    "school_layer.add_to(m)\n",
    "\n",
    "# 6. Layer Control 추가 (토글 기능)\n",
    "folium.LayerControl(collapsed=False).add_to(m)\n",
    "\n",
    "# 7. 저장 또는 노트북에서 보기\n",
    "m.save(\"myanmar_health_school_map.html\")"
   ]
  },
  {
   "cell_type": "code",
   "execution_count": null,
   "metadata": {},
   "outputs": [],
   "source": []
  }
 ],
 "metadata": {
  "kernelspec": {
   "display_name": "final",
   "language": "python",
   "name": "python3"
  },
  "language_info": {
   "codemirror_mode": {
    "name": "ipython",
    "version": 3
   },
   "file_extension": ".py",
   "mimetype": "text/x-python",
   "name": "python",
   "nbconvert_exporter": "python",
   "pygments_lexer": "ipython3",
   "version": "3.12.8"
  }
 },
 "nbformat": 4,
 "nbformat_minor": 2
}
